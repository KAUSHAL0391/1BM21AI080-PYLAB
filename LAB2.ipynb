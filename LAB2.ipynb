{
 "cells": [
  {
   "cell_type": "code",
   "execution_count": 1,
   "id": "1a4590bc",
   "metadata": {},
   "outputs": [
    {
     "name": "stdout",
     "output_type": "stream",
     "text": [
      "Enter a number : 6\n",
      "The factorial of a number is  720\n"
     ]
    }
   ],
   "source": [
    "def fact(n):\n",
    "    if n==1 or n==0:\n",
    "        return 1\n",
    "    else:\n",
    "        return n*fact(n-1)\n",
    "num=int(input('Enter a number : '))\n",
    "print(\"The factorial of a number is \",fact(num))"
   ]
  },
  {
   "cell_type": "code",
   "execution_count": 1,
   "id": "b0c2281a",
   "metadata": {},
   "outputs": [
    {
     "name": "stdout",
     "output_type": "stream",
     "text": [
      "['a', 'accuracy', 'acts', 'algorithm', 'an', 'and', 'as', 'barometer', 'commonly-used', 'cost', 'data', 'descent', 'each', 'function', 'gauging', 'gradient', 'helps', 'is', 'iteration', 'its', 'learn', 'learning', 'machine', 'models', 'networks', 'neural', 'of', 'optimization', 'over', 'parameter', 'specifically', 'the', 'these', 'time', 'to', 'train', 'training', 'updates', 'which', 'with', 'within']\n"
     ]
    }
   ],
   "source": [
    "text_file = open('gradient.txt', 'r')\n",
    "text = text_file.read()\n",
    "text = text.lower()\n",
    "words = text.split()\n",
    "words = [word.strip('.,!;()[]') for word in words]\n",
    "words = [word.replace(\"'s\", '') for word in words]\n",
    "unique = []\n",
    "for word in words:\n",
    "    if word not in unique:\n",
    "        unique.append(word)\n",
    "unique.sort()\n",
    "print(unique)"
   ]
  },
  {
   "cell_type": "code",
   "execution_count": 4,
   "id": "8f2df895",
   "metadata": {},
   "outputs": [
    {
     "name": "stdout",
     "output_type": "stream",
     "text": [
      "Enter the value for x : 3\n",
      "The result after solving equation is  132\n"
     ]
    }
   ],
   "source": [
    "poly = [1,2, -6, 2, -1]\n",
    "x = int(input(\"Enter the value for x : \"))\n",
    "n = len(poly)\n",
    "result = 0\n",
    "for i in range(n):\n",
    "    Sum = poly[i]\n",
    "    for j in range(n - i - 1):\n",
    "        Sum = Sum * x\n",
    "        result = result + Sum\n",
    "print('The result after solving equation is ',result)"
   ]
  },
  {
   "cell_type": "code",
   "execution_count": 5,
   "id": "e9d8e1ec",
   "metadata": {},
   "outputs": [
    {
     "name": "stdout",
     "output_type": "stream",
     "text": [
      "['bob', 'alice', 'tommy', 'tonystark']\n"
     ]
    }
   ],
   "source": [
    "strings = [\"alice\", \"bob\", \"tonystark\", \"tommy\"]\n",
    "strings.sort(key = len)\n",
    "print(strings)"
   ]
  },
  {
   "cell_type": "code",
   "execution_count": 7,
   "id": "302ef6b5",
   "metadata": {},
   "outputs": [
    {
     "name": "stdout",
     "output_type": "stream",
     "text": [
      "Enter the number of elements in list:4\n",
      "Enter element 1:gradient\n",
      "Enter element 2:neural\n",
      "Enter element 3:regression\n",
      "Enter element 4:tensor\n",
      "The word with the longest length is:\n",
      "regression\n"
     ]
    }
   ],
   "source": [
    "a=[]\n",
    "n= int(input(\"Enter the number of elements in list:\"))\n",
    "for x in range(0,n):\n",
    "    element=input(\"Enter element \" + str(x+1) + \":\")\n",
    "    a.append(element)\n",
    "max1=len(a[0])\n",
    "temp=a[0]\n",
    "for i in a:\n",
    "    if(len(i)>max1):\n",
    "        max1=len(i)\n",
    "        temp=i\n",
    "print(\"The word with the longest length is:\")\n",
    "print(temp)"
   ]
  },
  {
   "cell_type": "code",
   "execution_count": 8,
   "id": "154aa6d1",
   "metadata": {},
   "outputs": [
    {
     "name": "stdout",
     "output_type": "stream",
     "text": [
      "Enter lower range: 1\n",
      "Enter upper range: 25\n",
      "[1, 4, 9, 16, 25]\n"
     ]
    }
   ],
   "source": [
    "l=int(input(\"Enter lower range: \"))\n",
    "u=int(input(\"Enter upper range: \"))\n",
    "a=[]\n",
    "a=[x for x in range(l,u+1) if (int(x**0.5))**2==x and\n",
    "sum(list(map(int,str(x))))<10]\n",
    "print(a)"
   ]
  },
  {
   "cell_type": "code",
   "execution_count": 11,
   "id": "3483c2af",
   "metadata": {},
   "outputs": [
    {
     "name": "stdout",
     "output_type": "stream",
     "text": [
      "The frequency of words in the string are : \n",
      "{'The': 1, 'dog': 1, 'carries': 1, 'the': 3, 'bag': 2, 'and': 1, 'returns': 1, 'to': 1, 'owner': 1}\n"
     ]
    }
   ],
   "source": [
    "def word_count(str):\n",
    "    counts = dict()\n",
    "    words = str.split(\" \")\n",
    "    for word in words:\n",
    "        if word in counts:\n",
    "            counts[word] += 1\n",
    "        else:\n",
    "            counts[word] = 1\n",
    "    return counts\n",
    "print(\"The frequency of words in the string are : \")\n",
    "print( word_count('The dog carries the bag and returns the bag to the owner'))"
   ]
  }
 ],
 "metadata": {
  "kernelspec": {
   "display_name": "Python 3 (ipykernel)",
   "language": "python",
   "name": "python3"
  },
  "language_info": {
   "codemirror_mode": {
    "name": "ipython",
    "version": 3
   },
   "file_extension": ".py",
   "mimetype": "text/x-python",
   "name": "python",
   "nbconvert_exporter": "python",
   "pygments_lexer": "ipython3",
   "version": "3.11.2"
  }
 },
 "nbformat": 4,
 "nbformat_minor": 5
}
