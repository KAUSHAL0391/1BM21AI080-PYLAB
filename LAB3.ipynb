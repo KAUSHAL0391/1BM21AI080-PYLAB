{
 "cells": [
  {
   "cell_type": "code",
   "execution_count": 1,
   "id": "39ef1887",
   "metadata": {},
   "outputs": [
    {
     "name": "stdout",
     "output_type": "stream",
     "text": [
      "Enter a string of characters : Virat Kohli is a world class batsman\n",
      "{'V': ['Virat'], 'K': ['Kohli'], 'i': ['is'], 'a': ['a'], 'w': ['world'], 'c': ['class'], 'b': ['batsman']}\n"
     ]
    }
   ],
   "source": [
    "string_input = str(input(\"Enter a string of characters : \"))\n",
    "words = string_input.split()\n",
    "dictionary = {}\n",
    "for word in words:\n",
    "    if (word[0] not in dictionary.keys()):\n",
    "        dictionary[word[0]] = []\n",
    "        dictionary[word[0]].append(word)\n",
    "    else:\n",
    "        if (word not in dictionary[word[0]]):\n",
    "            dictionary[word[0]].append(word)\n",
    "\n",
    "print(dictionary)"
   ]
  },
  {
   "cell_type": "code",
   "execution_count": 2,
   "id": "d4c70d27",
   "metadata": {},
   "outputs": [
    {
     "name": "stdout",
     "output_type": "stream",
     "text": [
      "Enter a number: 125\n",
      "Binary Equivalent is: \n",
      "1 1 1 1 1 0 1 "
     ]
    }
   ],
   "source": [
    "n=int(input(\"Enter a number: \"))\n",
    "a=[]\n",
    "while(n>0):\n",
    "    dig=n%2\n",
    "    a.append(dig)\n",
    "    n=n//2\n",
    "a.reverse()\n",
    "print(\"Binary Equivalent is: \")\n",
    "for i in a:\n",
    "    print(i,end=\" \")"
   ]
  },
  {
   "cell_type": "code",
   "execution_count": 3,
   "id": "ae3c756a",
   "metadata": {},
   "outputs": [
    {
     "name": "stdout",
     "output_type": "stream",
     "text": [
      "Enter file name: gradient.txt\n",
      "Gradient Descent Is An Optimization Algorithm Which Is Commonly-Used\n",
      "\n",
      "To Train\n",
      "\n",
      "Machine Learning Models And Neural Networks.\n",
      "\n",
      "Training Data Helps These Models Learn Over Time, And\n",
      "\n",
      "The Cost Function Within Gradient Descent Specifically Acts As A\n",
      "\n",
      "Barometer,\n",
      "\n",
      "Gauging Its Accuracy With Each Iteration Of\n",
      "\n",
      "Parameter Updates.\n"
     ]
    }
   ],
   "source": [
    "fname = input(\"Enter file name: \")\n",
    "with open(fname, 'r') as f:\n",
    "    for line in f:\n",
    "        l=line.title()\n",
    "        print(l)"
   ]
  },
  {
   "cell_type": "code",
   "execution_count": 4,
   "id": "c31324fb",
   "metadata": {},
   "outputs": [
    {
     "name": "stdout",
     "output_type": "stream",
     "text": [
      "Enter a String : MACHINE LEARNING\n",
      "{'M': 1, 'A': 2, 'C': 1, 'H': 1, 'I': 2, 'N': 3, 'E': 2, ' ': 1, 'L': 1, 'R': 1, 'G': 1}\n"
     ]
    }
   ],
   "source": [
    "str=input(\"Enter a String : \")\n",
    "dict = {}\n",
    "for i in str:\n",
    "    dict[i] = str.count(i)\n",
    "print (dict)"
   ]
  },
  {
   "cell_type": "code",
   "execution_count": 5,
   "id": "37bba421",
   "metadata": {},
   "outputs": [
    {
     "name": "stdout",
     "output_type": "stream",
     "text": [
      "2020\n",
      "Hi First batch of ML students\n"
     ]
    }
   ],
   "source": [
    "def add(datatype, *args):\n",
    "# if datatype is int\n",
    "# initialize answer as 0\n",
    "    if datatype =='int':\n",
    "        answer = 0\n",
    "# if datatype is str\n",
    "# initialize answer as ''\n",
    "    if datatype =='str':\n",
    "        answer =''\n",
    "# Traverse through the arguments\n",
    "    for x in args:\n",
    "# This will do addition if the\n",
    "# arguments are int. Or concatenation\n",
    "# if the arguments are str\n",
    "        answer = answer + x\n",
    "    print(answer)\n",
    "# Integer\n",
    "add('int', 5, 15,2000)\n",
    "# String\n",
    "add('str', 'Hi ', 'First batch of ML students')"
   ]
  },
  {
   "cell_type": "code",
   "execution_count": 6,
   "id": "254d7311",
   "metadata": {},
   "outputs": [
    {
     "name": "stdout",
     "output_type": "stream",
     "text": [
      "Modified feature_1 of class A by class B\n"
     ]
    }
   ],
   "source": [
    "class A:\n",
    "    def fun1(self):\n",
    "        print('feature_1 of class A')\n",
    "    def fun2(self):\n",
    "        print('feature_2 of class A')\n",
    "\n",
    "class B(A):\n",
    "# Modified function that is\n",
    "# already exist in class A\n",
    "    def fun1(self):\n",
    "        print('Modified feature_1 of class A by class B')\n",
    "    def fun3(self):\n",
    "        print('feature_3 of class B')\n",
    "\n",
    "# Create instance\n",
    "obj = B()\n",
    "# Call the override function\n",
    "obj.fun1()"
   ]
  },
  {
   "cell_type": "code",
   "execution_count": 7,
   "id": "b57fba35",
   "metadata": {},
   "outputs": [
    {
     "name": "stdout",
     "output_type": "stream",
     "text": [
      "Square: 100\n",
      "Cube: 1000\n",
      "Done!\n"
     ]
    }
   ],
   "source": [
    "import threading\n",
    "def print_cube(num):\n",
    "    \"\"\"\n",
    "    function to print cube of given num\n",
    "    \"\"\"\n",
    "    print(\"Cube: {}\".format(num * num * num))\n",
    "def print_square(num):\n",
    "    \"\"\"\n",
    "    function to print square of given num\n",
    "    \"\"\"\n",
    "    print(\"Square: {}\".format(num * num))\n",
    "if __name__ == \"__main__\":\n",
    "    # creating thread\n",
    "    t1 = threading.Thread(target=print_square, args=(10,))\n",
    "    t2 = threading.Thread(target=print_cube, args=(10,))\n",
    "    # starting thread 1\n",
    "    t1.start()\n",
    "    # starting thread 2\n",
    "    t2.start()\n",
    "    # wait until thread 1 is completely executed\n",
    "    t1.join()\n",
    "    # wait until thread 2 is completely executed\n",
    "    t2.join()\n",
    "    # both threads completely executed\n",
    "    print(\"Done!\")"
   ]
  },
  {
   "cell_type": "code",
   "execution_count": 11,
   "id": "e0315be7",
   "metadata": {
    "scrolled": true
   },
   "outputs": [
    {
     "name": "stdout",
     "output_type": "stream",
     "text": [
      "Enter side 1: 5\n",
      "Enter side 2: 3\n",
      "Enter side 3: 4\n",
      "Side 1 is 5.0\n",
      "Side 2 is 3.0\n",
      "Side 3 is 4.0\n",
      "The area of the triangle is 6.00\n"
     ]
    }
   ],
   "source": [
    "class Polygon:\n",
    "    def __init__(self, no_of_sides):\n",
    "        self.n = no_of_sides\n",
    "        self.sides = [0 for _ in range(no_of_sides)]\n",
    "\n",
    "    def inputSides(self):\n",
    "        for i in range(self.n):\n",
    "            self.sides[i] = float(input(f\"Enter side {i + 1}: \"))\n",
    "\n",
    "    def dispSides(self):\n",
    "        for i in range(self.n):\n",
    "            print(f\"Side {i + 1} is {self.sides[i]}\")\n",
    "\n",
    "class Triangle(Polygon):\n",
    "    def __init__(self):\n",
    "        super().__init__(3)\n",
    "\n",
    "    def findArea(self):\n",
    "        a, b, c = self.sides\n",
    "        s = (a + b + c) / 2\n",
    "        area = (s * (s - a) * (s - b) * (s - c)) ** 0.5\n",
    "        print('The area of the triangle is %0.2f' % area)\n",
    "\n",
    "t = Triangle()  # Create a Triangle object\n",
    "t.inputSides()  # Input side lengths\n",
    "t.dispSides()   # Display side lengths\n",
    "t.findArea()    # Calculate and display the area of the triangle\n"
   ]
  },
  {
   "cell_type": "code",
   "execution_count": 9,
   "id": "4943f090",
   "metadata": {},
   "outputs": [
    {
     "name": "stdout",
     "output_type": "stream",
     "text": [
      "Number of words in text file:  46\n",
      "Number of lines in text file:  8\n",
      "Number of characters in text file:  270\n",
      "Number of spaces in text file:  38\n"
     ]
    }
   ],
   "source": [
    "def counter(fname):\n",
    "    num_words = 0\n",
    "    num_lines = 0\n",
    "    num_charc = 0\n",
    "    num_spaces = 0\n",
    "    with open(fname, 'r') as f:\n",
    "        for line in f:\n",
    "            num_lines += 1\n",
    "            word = 'Y'\n",
    "            for letter in line:\n",
    "                if (letter != ' ' and word == 'Y'):\n",
    "                    num_words += 1\n",
    "                    word = 'N'\n",
    "                elif (letter == ' '):\n",
    "                    num_spaces += 1\n",
    "                    word = 'Y'\n",
    "                for i in letter:\n",
    "                    if(i !=\" \" and i !=\"\\n\"):\n",
    "                        num_charc += 1\n",
    "    print(\"Number of words in text file: \", num_words)\n",
    "    print(\"Number of lines in text file: \", num_lines)\n",
    "    print('Number of characters in text file: ', num_charc)\n",
    "    print('Number of spaces in text file: ', num_spaces)\n",
    "if __name__ == '__main__':\n",
    "    fname = 'gradient.txt'\n",
    "    try:\n",
    "        counter(fname)\n",
    "    except:\n",
    "        print('File not found')"
   ]
  },
  {
   "cell_type": "code",
   "execution_count": 10,
   "id": "6bcb4507",
   "metadata": {},
   "outputs": [
    {
     "name": "stdout",
     "output_type": "stream",
     "text": [
      "Enter file name: gradient.txt\n",
      "parameter updates.\n",
      "gauging its accuracy with each iteration of\n",
      "barometer,\n",
      "the cost function within gradient descent specifically acts as a\n",
      "Training data helps these models learn over time, and\n",
      "machine learning models and neural networks.\n",
      "to train\n",
      "gradient descent is an optimization algorithm which is commonly-used\n"
     ]
    }
   ],
   "source": [
    "filename=input(\"Enter file name: \")\n",
    "for line in reversed(list(open(filename))):\n",
    "    print(line.rstrip())"
   ]
  }
 ],
 "metadata": {
  "kernelspec": {
   "display_name": "Python 3 (ipykernel)",
   "language": "python",
   "name": "python3"
  },
  "language_info": {
   "codemirror_mode": {
    "name": "ipython",
    "version": 3
   },
   "file_extension": ".py",
   "mimetype": "text/x-python",
   "name": "python",
   "nbconvert_exporter": "python",
   "pygments_lexer": "ipython3",
   "version": "3.11.2"
  }
 },
 "nbformat": 4,
 "nbformat_minor": 5
}
